{
  "nbformat": 4,
  "nbformat_minor": 0,
  "metadata": {
    "colab": {
      "provenance": []
    },
    "kernelspec": {
      "name": "python3",
      "display_name": "Python 3"
    },
    "language_info": {
      "name": "python"
    }
  },
  "cells": [
    {
      "cell_type": "code",
      "source": [
        "pip install pyspark"
      ],
      "metadata": {
        "id": "mwbNGl2LeKI2"
      },
      "execution_count": null,
      "outputs": []
    },
    {
      "cell_type": "code",
      "source": [
        "# IMPORTING NECESSARY DEPENDENCIES"
      ],
      "metadata": {
        "id": "F1KU_5jXhGQl"
      },
      "execution_count": null,
      "outputs": []
    },
    {
      "cell_type": "code",
      "source": [
        "from pyspark.sql import SparkSession"
      ],
      "metadata": {
        "id": "IN7mxDsze9d0"
      },
      "execution_count": null,
      "outputs": []
    },
    {
      "cell_type": "code",
      "source": [
        "from pyspark.sql.functions import col, sum"
      ],
      "metadata": {
        "id": "ERS5QjfQeaoZ"
      },
      "execution_count": null,
      "outputs": []
    },
    {
      "cell_type": "code",
      "source": [
        "#Initializing a Spark Session using PySpark library"
      ],
      "metadata": {
        "id": "QcQPOggGhVgW"
      },
      "execution_count": null,
      "outputs": []
    },
    {
      "cell_type": "code",
      "source": [
        "#SparkSession.builder: This is a builder pattern used to configure and create a SparkSession.\n",
        "\n",
        "#.appName(“SalesDataAnalysis”): to set the name of the Spark application to “SalesDataAnal-ysis”.\n",
        "#.getOrCreate(): This method retrieves an existing SparkSession if it exists or creates a new one if none exists."
      ],
      "metadata": {
        "id": "latMLi47h7so"
      },
      "execution_count": null,
      "outputs": []
    },
    {
      "cell_type": "code",
      "source": [
        "spark = SparkSession.builder \\\n",
        "    .appName(\"SalesDataAnalysis\") \\\n",
        "    .getOrCreate()"
      ],
      "metadata": {
        "id": "1mwh40bKedr8"
      },
      "execution_count": null,
      "outputs": []
    },
    {
      "cell_type": "code",
      "source": [
        "# Read CSV file into DataFrame\n",
        "sales_df = spark.read.csv(\"/content/sales_data_sample.csv\", header=True, inferSchema=True)"
      ],
      "metadata": {
        "id": "FiSJoT3tfDxQ"
      },
      "execution_count": null,
      "outputs": []
    },
    {
      "cell_type": "code",
      "source": [
        "sales_df"
      ],
      "metadata": {
        "colab": {
          "base_uri": "https://localhost:8080/"
        },
        "id": "9xjlrUHyiOwr",
        "outputId": "3a40b532-eae7-492a-cd1d-06a691a41dd1"
      },
      "execution_count": null,
      "outputs": [
        {
          "output_type": "execute_result",
          "data": {
            "text/plain": [
              "DataFrame[ORDERNUMBER: int, QUANTITYORDERED: int, PRICEEACH: double, ORDERLINENUMBER: int, SALES: double, ORDERDATE: string, STATUS: string, QTR_ID: int, MONTH_ID: int, YEAR_ID: int, PRODUCTLINE: string, MSRP: int, PRODUCTCODE: string, CUSTOMERNAME: string, PHONE: string, ADDRESSLINE1: string, ADDRESSLINE2: string, CITY: string, STATE: string, POSTALCODE: string, COUNTRY: string, TERRITORY: string, CONTACTLASTNAME: string, CONTACTFIRSTNAME: string, DEALSIZE: string]"
            ]
          },
          "metadata": {},
          "execution_count": 21
        }
      ]
    },
    {
      "cell_type": "code",
      "source": [
        "#Performing data cleaning: handling missing values and remov- ing duplicates"
      ],
      "metadata": {
        "id": "SjQ-HDAsiYOI"
      },
      "execution_count": null,
      "outputs": []
    },
    {
      "cell_type": "code",
      "source": [
        "cleaned_sales_df = sales_df.dropDuplicates().na.drop()"
      ],
      "metadata": {
        "id": "SWyYo85KibiH"
      },
      "execution_count": null,
      "outputs": []
    },
    {
      "cell_type": "code",
      "source": [
        " cleaned_sales_df"
      ],
      "metadata": {
        "colab": {
          "base_uri": "https://localhost:8080/"
        },
        "id": "CH87twaYiela",
        "outputId": "d0078bc1-4d23-43c4-a14f-b5ca5b6276f2"
      },
      "execution_count": null,
      "outputs": [
        {
          "output_type": "execute_result",
          "data": {
            "text/plain": [
              "DataFrame[ORDERNUMBER: int, QUANTITYORDERED: int, PRICEEACH: double, ORDERLINENUMBER: int, SALES: double, ORDERDATE: string, STATUS: string, QTR_ID: int, MONTH_ID: int, YEAR_ID: int, PRODUCTLINE: string, MSRP: int, PRODUCTCODE: string, CUSTOMERNAME: string, PHONE: string, ADDRESSLINE1: string, ADDRESSLINE2: string, CITY: string, STATE: string, POSTALCODE: string, COUNTRY: string, TERRITORY: string, CONTACTLASTNAME: string, CONTACTFIRSTNAME: string, DEALSIZE: string]"
            ]
          },
          "metadata": {},
          "execution_count": 24
        }
      ]
    },
    {
      "cell_type": "code",
      "source": [
        "#The “PRODUCTCODE” column is being used to aggregate the cleaned_sales_df DataFrame, which shows the cleaned sales data after handling missing values and eliminating duplicates.\n",
        "\n",
        "#Groups of rows with identical values in the “PRODUCTCODE” column are produced by the groupBy(“PRODUCTCODE”) function. This indicates that a grouping of all rows with the same product code will occur.\n",
        "\n",
        "#The grouped data is then aggregated using the agg() method. Sum(“SALES”) in agg() determines the total of the “SALES” column for each group. The total sales amount for each product code is determined in this way.\n",
        "\n",
        "#Lastly, a new name “TotalSalesAmount” is assigned to the aggregated column, which represents the total sales amount for each product code, using alias(“TotalSalesAmount”)."
      ],
      "metadata": {
        "id": "1OXu9I2wigbI"
      },
      "execution_count": null,
      "outputs": []
    },
    {
      "cell_type": "code",
      "source": [
        "# Handle missing values (replace nulls with 0)\n",
        "sales_df = sales_df.na.fill(0)"
      ],
      "metadata": {
        "id": "BuGtMqvDfm-9"
      },
      "execution_count": null,
      "outputs": []
    },
    {
      "cell_type": "code",
      "source": [
        "# Remove duplicates\n",
        "sales_df = sales_df.dropDuplicates()"
      ],
      "metadata": {
        "id": "u1rXm3-Wfptq"
      },
      "execution_count": null,
      "outputs": []
    },
    {
      "cell_type": "code",
      "source": [
        "sales_df.printSchema()"
      ],
      "metadata": {
        "colab": {
          "base_uri": "https://localhost:8080/"
        },
        "id": "RS10Qy9OgB1O",
        "outputId": "dcf6df59-60f4-4493-9030-c489fa8c9f8a"
      },
      "execution_count": null,
      "outputs": [
        {
          "output_type": "stream",
          "name": "stdout",
          "text": [
            "root\n",
            " |-- ORDERNUMBER: integer (nullable = true)\n",
            " |-- QUANTITYORDERED: integer (nullable = true)\n",
            " |-- PRICEEACH: double (nullable = false)\n",
            " |-- ORDERLINENUMBER: integer (nullable = true)\n",
            " |-- SALES: double (nullable = false)\n",
            " |-- ORDERDATE: string (nullable = true)\n",
            " |-- STATUS: string (nullable = true)\n",
            " |-- QTR_ID: integer (nullable = true)\n",
            " |-- MONTH_ID: integer (nullable = true)\n",
            " |-- YEAR_ID: integer (nullable = true)\n",
            " |-- PRODUCTLINE: string (nullable = true)\n",
            " |-- MSRP: integer (nullable = true)\n",
            " |-- PRODUCTCODE: string (nullable = true)\n",
            " |-- CUSTOMERNAME: string (nullable = true)\n",
            " |-- PHONE: string (nullable = true)\n",
            " |-- ADDRESSLINE1: string (nullable = true)\n",
            " |-- ADDRESSLINE2: string (nullable = true)\n",
            " |-- CITY: string (nullable = true)\n",
            " |-- STATE: string (nullable = true)\n",
            " |-- POSTALCODE: string (nullable = true)\n",
            " |-- COUNTRY: string (nullable = true)\n",
            " |-- TERRITORY: string (nullable = true)\n",
            " |-- CONTACTLASTNAME: string (nullable = true)\n",
            " |-- CONTACTFIRSTNAME: string (nullable = true)\n",
            " |-- DEALSIZE: string (nullable = true)\n",
            "\n"
          ]
        }
      ]
    },
    {
      "cell_type": "code",
      "source": [
        "# Calculate total sales amount for each product\n",
        "product_sales_df = cleaned_sales_df.groupBy(\"PRODUCTCODE\").agg(sum(\"SALES\"). alias(\"TotalSalesAmount\"))"
      ],
      "metadata": {
        "id": "ETaAVkCzfsLO"
      },
      "execution_count": null,
      "outputs": []
    },
    {
      "cell_type": "code",
      "source": [
        "product_sales_df"
      ],
      "metadata": {
        "colab": {
          "base_uri": "https://localhost:8080/"
        },
        "id": "EqczhPqAjhJm",
        "outputId": "324591ba-12b1-4f45-f033-93d0a11c2cf4"
      },
      "execution_count": null,
      "outputs": [
        {
          "output_type": "execute_result",
          "data": {
            "text/plain": [
              "DataFrame[PRODUCTCODE: string, TotalSalesAmount: double]"
            ]
          },
          "metadata": {},
          "execution_count": 31
        }
      ]
    },
    {
      "cell_type": "code",
      "source": [
        "#Final result is stored in product_sales_results"
      ],
      "metadata": {
        "id": "68NhZJWcj4cg"
      },
      "execution_count": null,
      "outputs": []
    },
    {
      "cell_type": "code",
      "source": [
        "# Output the results to a new CSV file\n",
        "product_sales_df.coalesce(1).write.csv(\"/content/product_sales_results.csv\", mode=\"overwrite\", header=True)"
      ],
      "metadata": {
        "id": "PuxAMSf-j5vF"
      },
      "execution_count": null,
      "outputs": []
    },
    {
      "cell_type": "code",
      "source": [
        "product_sales_df.show()"
      ],
      "metadata": {
        "colab": {
          "base_uri": "https://localhost:8080/"
        },
        "id": "Y-DQO0AslRTi",
        "outputId": "e0bfc9e2-1057-464c-d455-e5a4b53362f8"
      },
      "execution_count": null,
      "outputs": [
        {
          "output_type": "stream",
          "name": "stdout",
          "text": [
            "+-----------+------------------+\n",
            "|PRODUCTCODE|  TotalSalesAmount|\n",
            "+-----------+------------------+\n",
            "|   S18_4600|12936.099999999999|\n",
            "|   S18_1749|           11174.1|\n",
            "|   S12_3891|          12547.32|\n",
            "|   S18_2248|           3931.64|\n",
            "|   S32_1268| 4706.639999999999|\n",
            "|   S12_1099|            5019.9|\n",
            "|   S18_2795|          19255.22|\n",
            "|   S24_1937|           9554.31|\n",
            "|   S32_3522|          12700.04|\n",
            "|   S18_1097|          12626.71|\n",
            "|   S12_1666|          18616.09|\n",
            "|   S24_3969|            3647.1|\n",
            "|   S24_4048|          10691.41|\n",
            "|   S24_1578|           8652.03|\n",
            "|   S18_3320|10743.779999999999|\n",
            "|   S18_3136|16425.280000000002|\n",
            "|   S32_2509|           3873.24|\n",
            "|   S24_2887|          18576.34|\n",
            "|   S18_4409|12215.029999999999|\n",
            "|   S10_4757|           1201.25|\n",
            "+-----------+------------------+\n",
            "only showing top 20 rows\n",
            "\n"
          ]
        }
      ]
    },
    {
      "cell_type": "code",
      "source": [
        "# Stop SparkSession\n",
        "spark.stop()"
      ],
      "metadata": {
        "id": "ezQiRCnWlZlv"
      },
      "execution_count": null,
      "outputs": []
    }
  ]
}